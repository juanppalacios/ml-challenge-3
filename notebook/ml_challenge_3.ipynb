{
 "cells": [
  {
   "cell_type": "markdown",
   "metadata": {},
   "source": [
    "# CIS 678 - Machine Learning - Kaggle Challenge 3: MNIST Digit Classification\n",
    "\n",
    "<!-- ## Data Loading -->\n",
    "\n",
    "<!-- ## Model Implementation -->\n",
    "\n",
    "<!-- ## Model Evaluation -->\n",
    "\n",
    "<!-- ## Conclusion -->"
   ]
  },
  {
   "cell_type": "markdown",
   "metadata": {},
   "source": [
    "## Notebook Configuration\n",
    "Before running our model, let's change our working directory over to our Python scripts by running the following shell script:"
   ]
  },
  {
   "cell_type": "code",
   "execution_count": 1,
   "metadata": {
    "vscode": {
     "languageId": "shellscript"
    }
   },
   "outputs": [
    {
     "name": "stdout",
     "output_type": "stream",
     "text": [
      "sourcing MNIST model directory...\n",
      "/Users/jppalacios/academic/fall2023/cis678/ml-challenge-3/model/src\n"
     ]
    }
   ],
   "source": [
    "!echo sourcing MNIST model directory...\n",
    "%cd '../model/src/'"
   ]
  },
  {
   "cell_type": "markdown",
   "metadata": {},
   "source": [
    "## Importing our Custom Neural Network Libraries\n",
    "Now that were are under the right directory, let's start off by importing all of our custom Python scripts."
   ]
  },
  {
   "cell_type": "code",
   "execution_count": 2,
   "metadata": {},
   "outputs": [
    {
     "name": "stderr",
     "output_type": "stream",
     "text": [
      "Notebook - DEBUG - ready to report messages\n"
     ]
    }
   ],
   "source": [
    "import numpy as np\n",
    "\n",
    "# custom modules\n",
    "from toolkit import Toolkit\n",
    "from parameters import ParameterManager\n",
    "from model import Model\n",
    "\n",
    "# used for visualizing our training progress\n",
    "from rich.progress import track\n",
    "\n",
    "# creating our notebook toolkit helper\n",
    "tools = Toolkit()\n",
    "tools.configure(name = 'Notebook', level = 'DEBUG')"
   ]
  },
  {
   "cell_type": "markdown",
   "metadata": {},
   "source": [
    "## Load in Data\n",
    "This model will train on the MNIST data set.\n",
    "A collection of three `csv` files are imported to generate our training and testing data sets.\n",
    "Let's load in our `mnist_train.csv`, `mnist_train_targets.csv`, and `mnist_test.csv` files.\n"
   ]
  },
  {
   "cell_type": "code",
   "execution_count": 3,
   "metadata": {},
   "outputs": [
    {
     "name": "stderr",
     "output_type": "stream",
     "text": [
      "Notebook - INFO - loading in our MNIST data sets\n",
      "Notebook - INFO - read in our data with shapes: (60000, 784) and (60000, 1) \n",
      "Notebook - INFO - read in our data with shapes: (10000, 784) and (10000, 1) \n",
      "Notebook - INFO - applying normalization to our train data\n",
      "Notebook - INFO - visualizing a few MNIST training samples...\n"
     ]
    },
    {
     "data": {
      "image/png": "[encoded data removed]",
      "text/plain": [
       "<Figure size 1200x300 with 5 Axes>"
      ]
     },
     "metadata": {},
     "output_type": "display_data"
    },
    {
     "name": "stderr",
     "output_type": "stream",
     "text": [
      "Notebook - INFO - visualizing a few MNIST testing samples...\n"
     ]
    },
    {
     "data": {
      "image/png": "[encoded data removed]",
      "text/plain": [
       "<Figure size 1200x300 with 5 Axes>"
      ]
     },
     "metadata": {},
     "output_type": "display_data"
    },
    {
     "name": "stderr",
     "output_type": "stream",
     "text": [
      "Notebook - WARNING - plots should be labaled!\n"
     ]
    }
   ],
   "source": [
    "tools.info(\"loading in our MNIST data sets\")\n",
    "\n",
    "train_data    = tools.load_data(\"../data/train/mnist_train.csv\")\n",
    "train_targets = tools.load_data(\"../data/train/mnist_train_targets.csv\", transpose = False)\n",
    "test_data     = tools.load_data(\"../data/test/mnist_test.csv\")\n",
    "test_targets  = np.zeros((test_data.shape[0], 1), dtype=int)\n",
    "\n",
    "tools.info(f\"read in our data with shapes: {train_data.shape} and {train_targets.shape} \")\n",
    "tools.info(f\"read in our data with shapes: {test_data.shape} and {test_targets.shape} \")\n",
    "\n",
    "tools.info(\"applying normalization to our train data\")\n",
    "train_data = tools.normalize(train_data)\n",
    "test_data  = tools.normalize(test_data)\n",
    "\n",
    "tools.info(\"visualizing a few MNIST training samples...\")\n",
    "tools.visualize(train_data)\n",
    "\n",
    "tools.info(\"visualizing a few MNIST testing samples...\")\n",
    "tools.visualize(test_data)\n",
    "\n",
    "tools.warning(\"plots should be labaled!\")"
   ]
  },
  {
   "cell_type": "markdown",
   "metadata": {},
   "source": [
    "## Parameter Configuration\n",
    "Parameter selection is model development makes it easier to optimize our model.\n",
    "For example, if we can tune our model's learning rate value and see its effects on model performance.\n",
    "Using our custom `ParameterManager` class, we can easily create a variety of parameters to pass onto our MNIST model."
   ]
  },
  {
   "cell_type": "code",
   "execution_count": 4,
   "metadata": {},
   "outputs": [
    {
     "name": "stderr",
     "output_type": "stream",
     "text": [
      "Notebook - DEBUG - showing notebook parameters: \n",
      " test cases:\n",
      "\tcase 1: {'epochs': 20, 'learning_rate': 0.01, 'hidden_layers': 2, 'hidden_dimensions': [(784, 128), (128, 64), (64, 10)], 'activation': ('tanh', 'tanh', 'softmax')}\n",
      "\n"
     ]
    }
   ],
   "source": [
    "# hyper-parameter manager\n",
    "parameters = ParameterManager()\n",
    "\n",
    "# create learning parameters\n",
    "parameters.add_parameter(epochs = [20])\n",
    "parameters.add_parameter(learning_rate = [0.01])\n",
    "\n",
    "# create an architecture parameter\n",
    "parameters.add_nested_parameter(hidden_layers = [2], hidden_dimensions = [128, 64, 32], activation = ['tanh'])\n",
    "\n",
    "tools.debug(f'showing notebook parameters: {parameters}')"
   ]
  },
  {
   "cell_type": "markdown",
   "metadata": {},
   "source": [
    "## MNIST Model Configuration and Compilation\n",
    "With our training and testing data sets ready for processing and all of our tunable parameters declared, we can start compiling our custom neural architecture."
   ]
  },
  {
   "cell_type": "code",
   "execution_count": 5,
   "metadata": {},
   "outputs": [
    {
     "name": "stderr",
     "output_type": "stream",
     "text": [
      "MNIST Model - INFO - model configured\n",
      "MNIST Model - INFO - training test case 1 of 1 for 20 epochs, learning rate is 0.01 \n",
      "MNIST Model - INFO - \n",
      "Model Summary:\n",
      "\tlayer 0: Input layer shape: ((784, 784)), activation: none\n",
      "\tlayer 1: Fully Connected layer shape: ((784, 128)), activation: Tanh\n",
      "\tlayer 2: Fully Connected layer shape: ((128, 64)), activation: Tanh\n",
      "\tlayer 3: Output layer shape: ((64, 10)), activation: Softmax\n",
      "\n",
      "MNIST Model - INFO - epoch 1/20, error = 26.78157837258654\n",
      "MNIST Model - INFO - epoch 2/20, error = 26.781199999999938\n",
      "MNIST Model - INFO - epoch 3/20, error = 26.781199999999938\n",
      "MNIST Model - INFO - epoch 4/20, error = 26.781199999999938\n",
      "MNIST Model - INFO - epoch 5/20, error = 26.781199999999938\n",
      "MNIST Model - INFO - epoch 6/20, error = 26.781199999999938\n",
      "MNIST Model - INFO - epoch 7/20, error = 26.781199999999938\n",
      "MNIST Model - INFO - epoch 8/20, error = 26.781199999999938\n",
      "MNIST Model - INFO - epoch 9/20, error = 26.781199999999938\n",
      "MNIST Model - INFO - epoch 10/20, error = 26.781199999999938\n",
      "MNIST Model - INFO - epoch 11/20, error = 26.781199999999938\n",
      "MNIST Model - INFO - epoch 12/20, error = 26.781199999999938\n",
      "MNIST Model - INFO - epoch 13/20, error = 26.781199999999938\n",
      "MNIST Model - INFO - epoch 14/20, error = 26.781199999999938\n",
      "MNIST Model - INFO - epoch 15/20, error = 26.781199999999938\n",
      "MNIST Model - INFO - epoch 16/20, error = 26.781199999999938\n",
      "MNIST Model - INFO - epoch 17/20, error = 26.781199999999938\n",
      "MNIST Model - INFO - epoch 18/20, error = 26.781199999999938\n",
      "MNIST Model - INFO - epoch 19/20, error = 26.781199999999938\n",
      "MNIST Model - INFO - epoch 20/20, error = 26.781199999999938\n"
     ]
    }
   ],
   "source": [
    "mnist_model = Model(debug_mode = False)\n",
    "\n",
    "mnist_model.configure(parameters = parameters)\n",
    "\n",
    "mnist_model.fit(train_data, train_targets)\n"
   ]
  },
  {
   "cell_type": "markdown",
   "metadata": {},
   "source": [
    "## Assessing Model Performance\n",
    "The following section describes our model performance over all parameter variations"
   ]
  },
  {
   "cell_type": "code",
   "execution_count": 6,
   "metadata": {},
   "outputs": [],
   "source": [
    "# scores = mnist_model.evaluate(test_data, test_targets)\n",
    "\n",
    "# reporting our highest score with parameters\n",
    "# tools.info(f'high score of {scores['accuracy']} ran with parameters {scores['parameters']}')\n",
    "\n",
    "# tools.info(\"saving our test targets\")\n",
    "\n",
    "# tools.save_data(\"../data/test/mnist_test_targets.csv\", test_targets)"
   ]
  }
 ],
 "metadata": {
  "kernelspec": {
   "display_name": "Python 3",
   "language": "python",
   "name": "python3"
  },
  "language_info": {
   "codemirror_mode": {
    "name": "ipython",
    "version": 3
   },
   "file_extension": ".py",
   "mimetype": "text/x-python",
   "name": "python",
   "nbconvert_exporter": "python",
   "pygments_lexer": "ipython3",
   "version": "3.11.6"
  }
 },
 "nbformat": 4,
 "nbformat_minor": 2
}

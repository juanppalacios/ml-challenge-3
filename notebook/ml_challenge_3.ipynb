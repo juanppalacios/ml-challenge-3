{
 "cells": [
  {
   "cell_type": "markdown",
   "metadata": {},
   "source": [
    "# CIS 678 - Machine Learning - Kaggle Challenge 3: MNIST Digit Classification\n",
    "\n",
    "## Data Loading\n",
    "\n",
    "## Model Implementation\n",
    "\n",
    "## Model Evaluation\n",
    "\n",
    "## Conclusion"
   ]
  },
  {
   "cell_type": "code",
   "execution_count": 1,
   "metadata": {
    "vscode": {
     "languageId": "shellscript"
    }
   },
   "outputs": [
    {
     "name": "stdout",
     "output_type": "stream",
     "text": [
      "sourcing MNIST model...\n",
      "/Users/jppalacios/academic/fall2023/cis678/ml-challenge-3/model/src\n"
     ]
    }
   ],
   "source": [
    "!echo sourcing MNIST model...\n",
    "%cd '../model/src/'"
   ]
  },
  {
   "cell_type": "code",
   "execution_count": 2,
   "metadata": {},
   "outputs": [
    {
     "name": "stderr",
     "output_type": "stream",
     "text": [
      "Notebook - INFO - currently printing from our notebook\n",
      "MNIST model - DEBUG - running in debug mode!\n",
      "MNIST model - INFO - training our model for 10 epochs with learning rate of 0.01\n",
      "MNIST model - DEBUG - epoch 1/10, error = 0.0\n",
      "MNIST model - DEBUG - epoch 2/10, error = 0.0\n",
      "MNIST model - DEBUG - epoch 3/10, error = 0.0\n",
      "MNIST model - DEBUG - epoch 4/10, error = 0.0\n",
      "MNIST model - DEBUG - epoch 5/10, error = 0.0\n",
      "MNIST model - DEBUG - epoch 6/10, error = 0.0\n",
      "MNIST model - DEBUG - epoch 7/10, error = 0.0\n",
      "MNIST model - DEBUG - epoch 8/10, error = 0.0\n",
      "MNIST model - DEBUG - epoch 9/10, error = 0.0\n",
      "MNIST model - DEBUG - epoch 10/10, error = 0.0\n"
     ]
    }
   ],
   "source": [
    "import numpy as np\n",
    "\n",
    "from model import Model\n",
    "from tools import Toolkit, logging_levels\n",
    "\n",
    "#> toolkit usage\n",
    "notebook_tools = Toolkit()\n",
    "notebook_tools.configure(name = 'Notebook', level = logging_levels['INFO'])\n",
    "\n",
    "notebook_tools.info('currently printing from our notebook')\n",
    "\n",
    "# todo: reading in our files with notebook toolkit\n",
    "x_train = np.arange(10)\n",
    "y_train = np.arange(10)\n",
    "\n",
    "#> model run\n",
    "model = Model()\n",
    "model.configure(debug_mode = True)\n",
    "model.fit(x_train, y_train, epochs = 10, learning_rate = 0.01)"
   ]
  }
 ],
 "metadata": {
  "kernelspec": {
   "display_name": "Python 3",
   "language": "python",
   "name": "python3"
  },
  "language_info": {
   "codemirror_mode": {
    "name": "ipython",
    "version": 3
   },
   "file_extension": ".py",
   "mimetype": "text/x-python",
   "name": "python",
   "nbconvert_exporter": "python",
   "pygments_lexer": "ipython3",
   "version": "3.11.6"
  }
 },
 "nbformat": 4,
 "nbformat_minor": 2
}

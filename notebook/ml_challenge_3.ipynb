{
 "cells": [
  {
   "cell_type": "markdown",
   "metadata": {},
   "source": [
    "# CIS 678 - Machine Learning - Kaggle Challenge 3: MNIST Digit Classification\n",
    "\n",
    "## Data Loading\n",
    "\n",
    "## Model Implementation\n",
    "\n",
    "## Model Evaluation\n",
    "\n",
    "## Conclusion"
   ]
  },
  {
   "cell_type": "code",
   "execution_count": 1,
   "metadata": {
    "vscode": {
     "languageId": "shellscript"
    }
   },
   "outputs": [
    {
     "name": "stdout",
     "output_type": "stream",
     "text": [
      "sourcing MNIST model...\n",
      "/Users/jppalacios/academic/fall2023/cis678/ml-challenge-3/model/src\n"
     ]
    }
   ],
   "source": [
    "!echo sourcing MNIST model...\n",
    "%cd '../model/src/'"
   ]
  },
  {
   "cell_type": "markdown",
   "metadata": {},
   "source": [
    "# TODO\n",
    "### Visual\n",
    "- [ ] plot some examples of our mnist training sets\n",
    "- [ ] visualize our neural network using a 3rd-party library\n",
    "- [ ] import tracking module for progress\n",
    "- [ ] plot hyperparameters vs scores (multiple)\n",
    "\n",
    "### Toolkit Class\n",
    "- [ ] load data function\n",
    "- [ ] write data function\n",
    "\n",
    "### Parameter class\n",
    "- [ ] impelment precision as parameter\n",
    "\n",
    "### Model Class\n",
    "- [x] create a model\n",
    "- [ ] configure/compile function\n",
    "- [ ] fit function\n",
    "- [ ] evaluate function"
   ]
  },
  {
   "cell_type": "code",
   "execution_count": 2,
   "metadata": {},
   "outputs": [
    {
     "name": "stderr",
     "output_type": "stream",
     "text": [
      "Notebook - INFO - ready to report messages\n",
      "Notebook - DEBUG - showing notebook parameters: \n",
      "\t('normalize', 1000, 0.01)\n",
      "\t('normalize', 1500, 0.01)\n",
      "\n"
     ]
    }
   ],
   "source": [
    "import numpy as np\n",
    "\n",
    "from model import Model\n",
    "from toolkit import Toolkit, ParameterManager, logging_levels\n",
    "\n",
    "#> toolkit usage\n",
    "tools = Toolkit()\n",
    "\n",
    "tools.configure(name = 'Notebook', level = logging_levels['DEBUG'])\n",
    "\n",
    "tools.info('ready to report messages')\n",
    "\n",
    "#> hyper-parameters\n",
    "parameters = ParameterManager()\n",
    "\n",
    "parameters.add_parameter('preprocessing', ['normalize'])\n",
    "\n",
    "# parameters.add_parameter('architecture 0', [[Layers.relu, Layers.relu]])\n",
    "# parameters.add_parameter('architecture 1', [[Layers.sigmoid, Layers.sigmoid]])\n",
    "\n",
    "# parameters.add_parameter('layers', [2, 3])\n",
    "# parameters.add_parameter('neurons', [32, 64])\n",
    "# parameters.add_parameter('activation', ['relu', 'sigmoid'])\n",
    "\n",
    "# todo: figure out a way to encode our layer information so that we can test all possible combinations of layers\n",
    "\n",
    "parameters.add_parameter('epochs', [1000, 1500])\n",
    "parameters.add_parameter('learning rates', [0.01])\n",
    "\n",
    "{'architecture': (0, '') }\n",
    "\n",
    "tools.debug(f'showing notebook parameters: {parameters}')\n",
    "\n",
    "# todo: reading in our files with notebook toolkit\n",
    "# x_train = np.arange(10)\n",
    "# y_train = np.arange(10)\n",
    "# x_test  = np.arange(10)\n",
    "# y_test  = np.arange(10)\n",
    "\n",
    "# #> model run\n",
    "# mnist_model = Model()\n",
    "\n",
    "# mnist_model.configure(\n",
    "#   parameters   = parameters.all(),\n",
    "#   debug_mode   = False\n",
    "# )\n",
    "\n",
    "# mnist_model.add_input_layer(784, 64, 'none')\n",
    "# mnist_model.add_hidden_layer(64, 32, 'relu')\n",
    "# mnist_model.add_hidden_layer(32, 16, 'sigmoid')\n",
    "# mnist_model.add_hidden_layer(16, 8, 'tanh')\n",
    "# mnist_model.add_output_layer(8, 10, 'softmax')\n",
    "\n",
    "# mnist_model.summary()\n",
    "\n",
    "# mnist_model.fit(x_train, y_train, epochs = 10, learning_rate = 0.01)\n",
    "\n",
    "# scores = mnist_model.evaluate(x_test, y_test)\n",
    "\n",
    "#> reporting our highest score with parameters\n",
    "# tools.info(f'high score of {scores['accuracy']} ran with parameters {scores['parameters']}')\n"
   ]
  }
 ],
 "metadata": {
  "kernelspec": {
   "display_name": "Python 3",
   "language": "python",
   "name": "python3"
  },
  "language_info": {
   "codemirror_mode": {
    "name": "ipython",
    "version": 3
   },
   "file_extension": ".py",
   "mimetype": "text/x-python",
   "name": "python",
   "nbconvert_exporter": "python",
   "pygments_lexer": "ipython3",
   "version": "3.11.6"
  }
 },
 "nbformat": 4,
 "nbformat_minor": 2
}

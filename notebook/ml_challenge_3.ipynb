{
 "cells": [
  {
   "cell_type": "markdown",
   "metadata": {},
   "source": [
    "# CIS 678 - Machine Learning - Kaggle Challenge 3: MNIST Digit Classification\n",
    "\n",
    "## Data Loading\n",
    "\n",
    "## Model Implementation\n",
    "\n",
    "## Model Evaluation\n",
    "\n",
    "## Conclusion"
   ]
  },
  {
   "cell_type": "code",
   "execution_count": 1,
   "metadata": {
    "vscode": {
     "languageId": "shellscript"
    }
   },
   "outputs": [
    {
     "name": "stdout",
     "output_type": "stream",
     "text": [
      "sourcing MNIST model...\n",
      "/Users/jppalacios/academic/fall2023/cis678/ml-challenge-3/model/src\n"
     ]
    }
   ],
   "source": [
    "!echo sourcing MNIST model...\n",
    "%cd '../model/src/'"
   ]
  },
  {
   "cell_type": "code",
   "execution_count": 2,
   "metadata": {},
   "outputs": [
    {
     "name": "stderr",
     "output_type": "stream",
     "text": [
      "Notebook - INFO - currently printing from the notebook\n",
      "MNIST model - DEBUG - running in debug mode!\n",
      "MNIST model - INFO - this is a message\n",
      "MNIST model - WARNING - this is a message\n"
     ]
    }
   ],
   "source": [
    "import numpy as np\n",
    "\n",
    "from model import Model\n",
    "from tools import Toolkit, logging_levels\n",
    "\n",
    "notebook_tools = Toolkit()\n",
    "notebook_tools.configure(name = 'Notebook', level = logging_levels['INFO'])\n",
    "\n",
    "notebook_tools.info('currently printing from our notebook')\n",
    "\n",
    "model = Model()\n",
    "\n",
    "model.configure(debug_mode = True)"
   ]
  }
 ],
 "metadata": {
  "kernelspec": {
   "display_name": "Python 3",
   "language": "python",
   "name": "python3"
  },
  "language_info": {
   "codemirror_mode": {
    "name": "ipython",
    "version": 3
   },
   "file_extension": ".py",
   "mimetype": "text/x-python",
   "name": "python",
   "nbconvert_exporter": "python",
   "pygments_lexer": "ipython3",
   "version": "3.11.6"
  }
 },
 "nbformat": 4,
 "nbformat_minor": 2
}

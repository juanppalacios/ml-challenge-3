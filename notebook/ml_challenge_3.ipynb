{
 "cells": [
  {
   "cell_type": "markdown",
   "metadata": {},
   "source": [
    "# CIS 678 - Machine Learning - Kaggle Challenge 3: MNIST Digit Classification\n",
    "\n",
    "## Data Loading\n",
    "\n",
    "## Model Implementation\n",
    "\n",
    "## Model Evaluation\n",
    "\n",
    "## Conclusion"
   ]
  },
  {
   "cell_type": "code",
   "execution_count": 1,
   "metadata": {
    "vscode": {
     "languageId": "shellscript"
    }
   },
   "outputs": [
    {
     "name": "stdout",
     "output_type": "stream",
     "text": [
      "sourcing MNIST model...\n",
      "/Users/jppalacios/academic/fall2023/cis678/ml-challenge-3/model/src\n"
     ]
    }
   ],
   "source": [
    "!echo sourcing MNIST model...\n",
    "%cd '../model/src/'"
   ]
  },
  {
   "cell_type": "markdown",
   "metadata": {},
   "source": [
    "# TODO\n",
    "### Visual\n",
    "- [ ] plot some examples of our mnist training sets\n",
    "- [ ] visualize our neural network using a 3rd-party library\n",
    "- [ ] import tracking module for progress\n",
    "- [ ] plot hyperparameters vs scores (multiple)\n",
    "\n",
    "### Toolkit Class\n",
    "- [ ] load data function\n",
    "- [ ] write data function\n",
    "\n",
    "### Parameter class\n",
    "- [ ] impelment precision as parameter\n",
    "\n",
    "### Model Class\n",
    "- [x] create a model\n",
    "- [ ] configure/compile function\n",
    "- [ ] fit function\n",
    "- [ ] evaluate function"
   ]
  },
  {
   "cell_type": "code",
   "execution_count": 2,
   "metadata": {},
   "outputs": [
    {
     "name": "stderr",
     "output_type": "stream",
     "text": [
      "Notebook - INFO - ready to report messages\n",
      "Notebook - INFO - showing notebook parameters: \n",
      "\tpreprocessing -> ['normalize']\n",
      "\tlayers -> [1, 2, 3]\n",
      "\tneurons -> [16, 32, 64]\n",
      "\tactivation -> ['relu', 'sigmoid']\n",
      "\tepochs -> [1000, 2000, 3000]\n",
      "\tlearning rates -> [0.01, 0.001, 0.0001]\n",
      "\n",
      "MNIST Model - DEBUG - running in debug mode!\n",
      "MNIST Model - DEBUG - we will store a total of 162 scores and y_tests\n"
     ]
    }
   ],
   "source": [
    "import numpy as np\n",
    "\n",
    "from model import Model, Layers\n",
    "from toolkit import Toolkit, ParameterManager, logging_levels\n",
    "\n",
    "#> toolkit usage\n",
    "tools = Toolkit()\n",
    "\n",
    "tools.configure(name = 'Notebook', level = logging_levels['INFO'])\n",
    "\n",
    "tools.info('ready to report messages')\n",
    "\n",
    "#> hyper-parameters\n",
    "parameters = ParameterManager()\n",
    "\n",
    "parameters.add_parameter('preprocessing', ['normalize'])\n",
    "parameters.add_parameter('layers', [1, 2, 3])\n",
    "parameters.add_parameter('neurons', [16, 32, 64])\n",
    "parameters.add_parameter('activation', ['relu', 'sigmoid'])\n",
    "parameters.add_parameter('epochs', [1000, 2000, 3000])\n",
    "parameters.add_parameter('learning rates', [0.01, 0.001, 0.0001])\n",
    "\n",
    "tools.info(f'showing notebook parameters: {parameters}')\n",
    "\n",
    "# todo: reading in our files with notebook toolkit\n",
    "x_train = np.arange(10)\n",
    "y_train = np.arange(10)\n",
    "x_test  = np.arange(10)\n",
    "y_test  = np.arange(10)\n",
    "\n",
    "#> model run\n",
    "model = Model()\n",
    "\n",
    "model.configure(parameters = parameters.all(), debug_mode = True)\n",
    "\n",
    "# model.fit(x_train, y_train, epochs = 10, learning_rate = 0.01)\n",
    "\n",
    "# scores = model.evaluate(x_test, y_test)\n",
    "\n",
    "#> reporting our highest score with parameters\n",
    "# tools.info(f'high score of {scores['accuracy']} ran with parameters {scores['parameters']}')\n"
   ]
  }
 ],
 "metadata": {
  "kernelspec": {
   "display_name": "Python 3",
   "language": "python",
   "name": "python3"
  },
  "language_info": {
   "codemirror_mode": {
    "name": "ipython",
    "version": 3
   },
   "file_extension": ".py",
   "mimetype": "text/x-python",
   "name": "python",
   "nbconvert_exporter": "python",
   "pygments_lexer": "ipython3",
   "version": "3.11.6"
  }
 },
 "nbformat": 4,
 "nbformat_minor": 2
}
